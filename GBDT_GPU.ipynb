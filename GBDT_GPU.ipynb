{
  "nbformat": 4,
  "nbformat_minor": 0,
  "metadata": {
    "colab": {
      "name": "GBDT GPU.ipynb",
      "provenance": [],
      "authorship_tag": "ABX9TyNDzjBduADTN17jl0DdFCHb",
      "include_colab_link": true
    },
    "kernelspec": {
      "name": "python3",
      "display_name": "Python 3"
    },
    "accelerator": "GPU"
  },
  "cells": [
    {
      "cell_type": "markdown",
      "metadata": {
        "id": "view-in-github",
        "colab_type": "text"
      },
      "source": [
        "<a href=\"https://colab.research.google.com/github/maciekpiotrowski/playground/blob/master/GBDT_GPU.ipynb\" target=\"_parent\"><img src=\"https://colab.research.google.com/assets/colab-badge.svg\" alt=\"Open In Colab\"/></a>"
      ]
    },
    {
      "cell_type": "code",
      "metadata": {
        "id": "ovdcNcIGEU5R",
        "colab_type": "code",
        "colab": {
          "base_uri": "https://localhost:8080/",
          "height": 343
        },
        "outputId": "f166bcd8-34b2-4709-e3ff-959dcc594150"
      },
      "source": [
        "!pip install catboost"
      ],
      "execution_count": 3,
      "outputs": [
        {
          "output_type": "stream",
          "text": [
            "Collecting catboost\n",
            "\u001b[?25l  Downloading https://files.pythonhosted.org/packages/94/ec/12b9a42b2ea7dfe5b602f235692ab2b61ee1334ff34334a15902272869e8/catboost-0.22-cp36-none-manylinux1_x86_64.whl (64.4MB)\n",
            "\u001b[K     |████████████████████████████████| 64.4MB 49kB/s \n",
            "\u001b[?25hRequirement already satisfied: plotly in /usr/local/lib/python3.6/dist-packages (from catboost) (4.4.1)\n",
            "Requirement already satisfied: pandas>=0.24.0 in /usr/local/lib/python3.6/dist-packages (from catboost) (1.0.3)\n",
            "Requirement already satisfied: numpy>=1.16.0 in /usr/local/lib/python3.6/dist-packages (from catboost) (1.18.2)\n",
            "Requirement already satisfied: graphviz in /usr/local/lib/python3.6/dist-packages (from catboost) (0.10.1)\n",
            "Requirement already satisfied: scipy in /usr/local/lib/python3.6/dist-packages (from catboost) (1.4.1)\n",
            "Requirement already satisfied: six in /usr/local/lib/python3.6/dist-packages (from catboost) (1.12.0)\n",
            "Requirement already satisfied: matplotlib in /usr/local/lib/python3.6/dist-packages (from catboost) (3.2.1)\n",
            "Requirement already satisfied: retrying>=1.3.3 in /usr/local/lib/python3.6/dist-packages (from plotly->catboost) (1.3.3)\n",
            "Requirement already satisfied: python-dateutil>=2.6.1 in /usr/local/lib/python3.6/dist-packages (from pandas>=0.24.0->catboost) (2.8.1)\n",
            "Requirement already satisfied: pytz>=2017.2 in /usr/local/lib/python3.6/dist-packages (from pandas>=0.24.0->catboost) (2018.9)\n",
            "Requirement already satisfied: cycler>=0.10 in /usr/local/lib/python3.6/dist-packages (from matplotlib->catboost) (0.10.0)\n",
            "Requirement already satisfied: pyparsing!=2.0.4,!=2.1.2,!=2.1.6,>=2.0.1 in /usr/local/lib/python3.6/dist-packages (from matplotlib->catboost) (2.4.7)\n",
            "Requirement already satisfied: kiwisolver>=1.0.1 in /usr/local/lib/python3.6/dist-packages (from matplotlib->catboost) (1.2.0)\n",
            "Installing collected packages: catboost\n",
            "Successfully installed catboost-0.22\n"
          ],
          "name": "stdout"
        }
      ]
    },
    {
      "cell_type": "code",
      "metadata": {
        "id": "AG3fehl6EqKA",
        "colab_type": "code",
        "colab": {}
      },
      "source": [
        "from catboost.datasets import epsilon"
      ],
      "execution_count": 0,
      "outputs": []
    },
    {
      "cell_type": "code",
      "metadata": {
        "id": "YwRFQF1BEvu3",
        "colab_type": "code",
        "colab": {}
      },
      "source": [
        "train, test = epsilon()"
      ],
      "execution_count": 0,
      "outputs": []
    },
    {
      "cell_type": "code",
      "metadata": {
        "id": "3LjgsqKNFsBU",
        "colab_type": "code",
        "colab": {}
      },
      "source": [
        "X_train, y_train = train.iloc[:,1:], train[0]\n",
        "X_test, y_test = test.iloc[:,1:], test[0]"
      ],
      "execution_count": 0,
      "outputs": []
    },
    {
      "cell_type": "code",
      "metadata": {
        "id": "-ojZo1m7N_xa",
        "colab_type": "code",
        "colab": {}
      },
      "source": [
        "from catboost import CatBoostClassifier\n",
        "import timeit\n",
        "\n",
        "def train_on_cpu():  \n",
        "  model = CatBoostClassifier(\n",
        "    iterations=100,\n",
        "    learning_rate=0.03\n",
        "  )\n",
        "  \n",
        "  model.fit(\n",
        "      X_train, y_train,\n",
        "      eval_set=(X_test, y_test),\n",
        "      verbose=10\n",
        "  );   \n",
        "      \n",
        "cpu_time = timeit.timeit('train_on_cpu()', \n",
        "                         setup=\"from __main__ import train_on_cpu\", \n",
        "                         number=1)\n",
        "\n",
        "print('Time to fit model on CPU: {} sec'.format(int(cpu_time)))"
      ],
      "execution_count": 0,
      "outputs": []
    },
    {
      "cell_type": "code",
      "metadata": {
        "id": "t9tXmIjDONWq",
        "colab_type": "code",
        "colab": {}
      },
      "source": [
        "def train_on_gpu():  \n",
        "  model = CatBoostClassifier(\n",
        "    iterations=100,\n",
        "    learning_rate=0.03,\n",
        "    task_type='GPU'\n",
        "  )\n",
        "  \n",
        "  model.fit(\n",
        "      X_train, y_train,\n",
        "      eval_set=(X_test, y_test),\n",
        "      verbose=10\n",
        "  );     \n",
        "      \n",
        "gpu_time = timeit.timeit('train_on_gpu()', \n",
        "                         setup=\"from __main__ import train_on_gpu\", \n",
        "                         number=1)\n",
        "\n",
        "print('Time to fit model on GPU: {} sec'.format(int(gpu_time)))\n",
        "print('GPU speedup over CPU: ' + '%.2f' % (cpu_time/gpu_time) + 'x')"
      ],
      "execution_count": 0,
      "outputs": []
    },
    {
      "cell_type": "markdown",
      "metadata": {
        "id": "OkA2svKiP61Y",
        "colab_type": "text"
      },
      "source": [
        "I would like to test XGBoost and LightGBM (link below), but they wouldn't run...\n",
        "https://medium.com/mlreview/mastering-fast-gradient-boosting-on-google-colaboratory-with-free-gpu-51abbbf4b860"
      ]
    }
  ]
}