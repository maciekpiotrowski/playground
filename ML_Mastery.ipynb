{
  "nbformat": 4,
  "nbformat_minor": 0,
  "metadata": {
    "colab": {
      "name": "ML Mastery",
      "provenance": [],
      "mount_file_id": "1YKZQWAGr4IjK8wH1UYgxE1qnA1dJ1LMT",
      "authorship_tag": "ABX9TyMVf3m+npSEqwQ3j/Xnk2Au",
      "include_colab_link": true
    },
    "kernelspec": {
      "name": "python3",
      "display_name": "Python 3"
    }
  },
  "cells": [
    {
      "cell_type": "markdown",
      "metadata": {
        "id": "view-in-github",
        "colab_type": "text"
      },
      "source": [
        "<a href=\"https://colab.research.google.com/github/maciekpiotrowski/playground/blob/master/ML_Mastery.ipynb\" target=\"_parent\"><img src=\"https://colab.research.google.com/assets/colab-badge.svg\" alt=\"Open In Colab\"/></a>"
      ]
    },
    {
      "cell_type": "code",
      "metadata": {
        "id": "TNdK_gCOr9aQ",
        "colab_type": "code",
        "outputId": "dbd1aea8-1c62-4abb-8591-22e5ecb45e66",
        "colab": {
          "base_uri": "https://localhost:8080/",
          "height": 102
        }
      },
      "source": [
        "!pip install Theano\n",
        "import theano\n",
        "from theano import tensor\n",
        "# declare two symbolic floating-point scalars\n",
        "a = tensor.dscalar()\n",
        "b = tensor.dscalar()\n",
        "# create a simple expression\n",
        "c = a + b\n",
        "# convert the expression into a callable object that takes (a,b)\n",
        "# values as input and computes a value for c\n",
        "f = theano.function([a,b], c)\n",
        "# bind 1.5 to 'a', 2.5 to 'b', and evaluate 'c'\n",
        "result = f(1.5, 2.5)\n",
        "print(result)"
      ],
      "execution_count": 0,
      "outputs": [
        {
          "output_type": "stream",
          "text": [
            "Requirement already satisfied: Theano in /usr/local/lib/python3.6/dist-packages (1.0.4)\n",
            "Requirement already satisfied: six>=1.9.0 in /usr/local/lib/python3.6/dist-packages (from Theano) (1.12.0)\n",
            "Requirement already satisfied: numpy>=1.9.1 in /usr/local/lib/python3.6/dist-packages (from Theano) (1.18.2)\n",
            "Requirement already satisfied: scipy>=0.14 in /usr/local/lib/python3.6/dist-packages (from Theano) (1.4.1)\n",
            "4.0\n"
          ],
          "name": "stdout"
        }
      ]
    },
    {
      "cell_type": "code",
      "metadata": {
        "id": "cx1hS_22teMr",
        "colab_type": "code",
        "outputId": "8ed7f06e-b767-45dd-a63c-bdeee82a484f",
        "colab": {
          "base_uri": "https://localhost:8080/",
          "height": 34
        }
      },
      "source": [
        "print(c)"
      ],
      "execution_count": 0,
      "outputs": [
        {
          "output_type": "stream",
          "text": [
            "Elemwise{add,no_inplace}.0\n"
          ],
          "name": "stdout"
        }
      ]
    },
    {
      "cell_type": "code",
      "metadata": {
        "id": "vVc1je8ksTer",
        "colab_type": "code",
        "outputId": "c16bdc63-2862-4228-ca4d-9a4949a39399",
        "colab": {
          "base_uri": "https://localhost:8080/",
          "height": 170
        }
      },
      "source": [
        "%whos"
      ],
      "execution_count": 0,
      "outputs": [
        {
          "output_type": "stream",
          "text": [
            "Variable   Type              Data/Info\n",
            "--------------------------------------\n",
            "a          TensorVariable    <TensorType(float64, scalar)>\n",
            "b          TensorVariable    <TensorType(float64, scalar)>\n",
            "c          TensorVariable    Elemwise{add,no_inplace}.0\n",
            "f          Function          <theano.compile.function_<...>object at 0x7f278a9646a0>\n",
            "result     ndarray           : 1 elems, type `float64`, 8 bytes\n",
            "tensor     module            <module 'theano.tensor' f<...>eano/tensor/__init__.py'>\n",
            "theano     module            <module 'theano' from '/u<...>ages/theano/__init__.py'>\n"
          ],
          "name": "stdout"
        }
      ]
    },
    {
      "cell_type": "code",
      "metadata": {
        "id": "1QctykeCKPR7",
        "colab_type": "code",
        "outputId": "7c413b08-afb8-40fc-cd36-f11f05c5640f",
        "colab": {
          "base_uri": "https://localhost:8080/",
          "height": 105
        }
      },
      "source": [
        "# Example of TensorFlow library\n",
        "import tensorflow as tf\n",
        "import tensorflow.compat.v1 as tf\n",
        "tf.disable_v2_behavior()\n",
        "# declare two symbolic floating-point scalars\n",
        "a = tf.placeholder(tf.float32)\n",
        "b = tf.placeholder(tf.float32)\n",
        "# create a simple symbolic expression using the add function\n",
        "add = tf.add(a, b)\n",
        "# bind 1.5 to 'a', 2.5 to 'b', and evaluate 'c'\n",
        "sess = tf.Session()\n",
        "binding = {a: 1.5, b: 2.5}\n",
        "c = sess.run(add, feed_dict=binding)\n",
        "print(c)"
      ],
      "execution_count": 0,
      "outputs": [
        {
          "output_type": "stream",
          "text": [
            "WARNING:tensorflow:From /usr/local/lib/python3.6/dist-packages/tensorflow/python/compat/v2_compat.py:96: disable_resource_variables (from tensorflow.python.ops.variable_scope) is deprecated and will be removed in a future version.\n",
            "Instructions for updating:\n",
            "non-resource variables are not supported in the long term\n",
            "4.0\n"
          ],
          "name": "stdout"
        }
      ]
    },
    {
      "cell_type": "markdown",
      "metadata": {
        "id": "jAv29UvTKyb7",
        "colab_type": "text"
      },
      "source": [
        "XGBoost example"
      ]
    },
    {
      "cell_type": "code",
      "metadata": {
        "id": "6RM62VXAv5O0",
        "colab_type": "code",
        "colab": {
          "base_uri": "https://localhost:8080/",
          "height": 34
        },
        "outputId": "199dff34-a74d-4b6a-a983-b5913e287df7"
      },
      "source": [
        "cd drive/My\\ Drive/Colab\\ Notebooks"
      ],
      "execution_count": 4,
      "outputs": [
        {
          "output_type": "stream",
          "text": [
            "/content/drive/My Drive/Colab Notebooks\n"
          ],
          "name": "stdout"
        }
      ]
    },
    {
      "cell_type": "code",
      "metadata": {
        "id": "aa45VkBwK0K6",
        "colab_type": "code",
        "colab": {
          "base_uri": "https://localhost:8080/",
          "height": 34
        },
        "outputId": "5e483266-fd39-4db5-8e21-82338efeeac9"
      },
      "source": [
        "# First XGBoost model for Pima Indians dataset\n",
        "from numpy import loadtxt\n",
        "from xgboost import XGBClassifier\n",
        "from sklearn.model_selection import train_test_split\n",
        "from sklearn.metrics import accuracy_score\n",
        "# load data\n",
        "dataset = loadtxt('pima-indians-diabetes.csv', delimiter=\",\")\n",
        "# split data into X and y\n",
        "X = dataset[:,0:8]\n",
        "Y = dataset[:,8]\n",
        "# split data into train and test sets\n",
        "seed = 7\n",
        "test_size = 0.33\n",
        "X_train, X_test, y_train, y_test = train_test_split(X, Y, test_size=test_size, random_state=seed)\n",
        "# fit model on training data\n",
        "model = XGBClassifier()\n",
        "model.fit(X_train, y_train)\n",
        "# make predictions for test data\n",
        "predictions = model.predict(X_test)\n",
        "# evaluate predictions\n",
        "accuracy = accuracy_score(y_test, predictions)\n",
        "print(\"Accuracy: %.2f%%\" % (accuracy * 100.0))"
      ],
      "execution_count": 5,
      "outputs": [
        {
          "output_type": "stream",
          "text": [
            "Accuracy: 77.95%\n"
          ],
          "name": "stdout"
        }
      ]
    },
    {
      "cell_type": "code",
      "metadata": {
        "id": "ed2-yrQkwlQb",
        "colab_type": "code",
        "colab": {}
      },
      "source": [
        "# exmaple of early stopping\n",
        "from numpy import loadtxt\n",
        "from xgboost import XGBClassifier\n",
        "from sklearn.model_selection import train_test_split\n",
        "from sklearn.metrics import accuracy_score\n",
        "# load data\n",
        "dataset = loadtxt('pima-indians-diabetes.csv', delimiter=\",\")\n",
        "# split data into X and y\n",
        "X = dataset[:,0:8]\n",
        "Y = dataset[:,8]\n",
        "# split data into train and test sets\n",
        "seed = 7\n",
        "test_size = 0.33\n",
        "X_train, X_test, y_train, y_test = train_test_split(X, Y, test_size=test_size, random_state=seed)\n",
        "# fit model on training data\n",
        "model = XGBClassifier()\n",
        "eval_set = [(X_test, y_test)]\n",
        "model.fit(X_train, y_train, early_stopping_rounds=10, eval_metric=\"logloss\", eval_set=eval_set, verbose=True)\n",
        "# make predictions for test data\n",
        "predictions = model.predict(X_test)\n",
        "# evaluate predictions\n",
        "accuracy = accuracy_score(y_test, predictions)\n",
        "print(\"Accuracy: %.2f%%\" % (accuracy * 100.0))"
      ],
      "execution_count": 0,
      "outputs": []
    }
  ]
}