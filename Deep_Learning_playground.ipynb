{
  "nbformat": 4,
  "nbformat_minor": 0,
  "metadata": {
    "colab": {
      "name": "Deep Learning playground.ipynb",
      "provenance": [],
      "authorship_tag": "ABX9TyPNDeeN8Llen+wEpn5FbiF3",
      "include_colab_link": true
    },
    "kernelspec": {
      "name": "python3",
      "display_name": "Python 3"
    }
  },
  "cells": [
    {
      "cell_type": "markdown",
      "metadata": {
        "id": "view-in-github",
        "colab_type": "text"
      },
      "source": [
        "<a href=\"https://colab.research.google.com/github/maciekpiotrowski/playground/blob/master/Deep_Learning_playground.ipynb\" target=\"_parent\"><img src=\"https://colab.research.google.com/assets/colab-badge.svg\" alt=\"Open In Colab\"/></a>"
      ]
    },
    {
      "cell_type": "code",
      "metadata": {
        "id": "TNdK_gCOr9aQ",
        "colab_type": "code",
        "colab": {
          "base_uri": "https://localhost:8080/",
          "height": 102
        },
        "outputId": "dbd1aea8-1c62-4abb-8591-22e5ecb45e66"
      },
      "source": [
        "!pip install Theano\n",
        "import theano\n",
        "from theano import tensor\n",
        "# declare two symbolic floating-point scalars\n",
        "a = tensor.dscalar()\n",
        "b = tensor.dscalar()\n",
        "# create a simple expression\n",
        "c = a + b\n",
        "# convert the expression into a callable object that takes (a,b)\n",
        "# values as input and computes a value for c\n",
        "f = theano.function([a,b], c)\n",
        "# bind 1.5 to 'a', 2.5 to 'b', and evaluate 'c'\n",
        "result = f(1.5, 2.5)\n",
        "print(result)"
      ],
      "execution_count": 1,
      "outputs": [
        {
          "output_type": "stream",
          "text": [
            "Requirement already satisfied: Theano in /usr/local/lib/python3.6/dist-packages (1.0.4)\n",
            "Requirement already satisfied: six>=1.9.0 in /usr/local/lib/python3.6/dist-packages (from Theano) (1.12.0)\n",
            "Requirement already satisfied: numpy>=1.9.1 in /usr/local/lib/python3.6/dist-packages (from Theano) (1.18.2)\n",
            "Requirement already satisfied: scipy>=0.14 in /usr/local/lib/python3.6/dist-packages (from Theano) (1.4.1)\n",
            "4.0\n"
          ],
          "name": "stdout"
        }
      ]
    },
    {
      "cell_type": "code",
      "metadata": {
        "id": "cx1hS_22teMr",
        "colab_type": "code",
        "colab": {
          "base_uri": "https://localhost:8080/",
          "height": 34
        },
        "outputId": "8ed7f06e-b767-45dd-a63c-bdeee82a484f"
      },
      "source": [
        "print(c)"
      ],
      "execution_count": 9,
      "outputs": [
        {
          "output_type": "stream",
          "text": [
            "Elemwise{add,no_inplace}.0\n"
          ],
          "name": "stdout"
        }
      ]
    },
    {
      "cell_type": "code",
      "metadata": {
        "id": "vVc1je8ksTer",
        "colab_type": "code",
        "colab": {
          "base_uri": "https://localhost:8080/",
          "height": 170
        },
        "outputId": "c16bdc63-2862-4228-ca4d-9a4949a39399"
      },
      "source": [
        "%whos"
      ],
      "execution_count": 4,
      "outputs": [
        {
          "output_type": "stream",
          "text": [
            "Variable   Type              Data/Info\n",
            "--------------------------------------\n",
            "a          TensorVariable    <TensorType(float64, scalar)>\n",
            "b          TensorVariable    <TensorType(float64, scalar)>\n",
            "c          TensorVariable    Elemwise{add,no_inplace}.0\n",
            "f          Function          <theano.compile.function_<...>object at 0x7f278a9646a0>\n",
            "result     ndarray           : 1 elems, type `float64`, 8 bytes\n",
            "tensor     module            <module 'theano.tensor' f<...>eano/tensor/__init__.py'>\n",
            "theano     module            <module 'theano' from '/u<...>ages/theano/__init__.py'>\n"
          ],
          "name": "stdout"
        }
      ]
    }
  ]
}