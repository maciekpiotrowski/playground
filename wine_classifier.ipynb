{
  "nbformat": 4,
  "nbformat_minor": 0,
  "metadata": {
    "colab": {
      "name": "wine_classifier.ipynb",
      "provenance": [],
      "collapsed_sections": [],
      "include_colab_link": true
    },
    "kernelspec": {
      "name": "python3",
      "display_name": "Python 3"
    }
  },
  "cells": [
    {
      "cell_type": "markdown",
      "metadata": {
        "id": "view-in-github",
        "colab_type": "text"
      },
      "source": [
        "<a href=\"https://colab.research.google.com/github/maciekpiotrowski/playground/blob/master/wine_classifier.ipynb\" target=\"_parent\"><img src=\"https://colab.research.google.com/assets/colab-badge.svg\" alt=\"Open In Colab\"/></a>"
      ]
    },
    {
      "cell_type": "markdown",
      "metadata": {
        "id": "oArJ7yZG1J0C",
        "colab_type": "text"
      },
      "source": [
        "# Najprostszy model ML ever\n",
        "\n",
        "Ten notebook jest dodatkiem do postu na blogu UczymyMaszyny.pl\n"
      ]
    },
    {
      "cell_type": "markdown",
      "metadata": {
        "id": "isqv0u6K2bMB",
        "colab_type": "text"
      },
      "source": [
        "Zaimportujmy potrzebne biblioteki. To nasz pierwszy model, więc zacznijmy jak najprościej. Idźmy zgodnie z duchem twórców biblioteki Fast.AI - Get straight into the code, start building models :)"
      ]
    },
    {
      "cell_type": "code",
      "metadata": {
        "id": "WHnCK3fhea0o",
        "colab_type": "code",
        "colab": {}
      },
      "source": [
        "from fastai.tabular import * "
      ],
      "execution_count": 0,
      "outputs": []
    },
    {
      "cell_type": "markdown",
      "metadata": {
        "id": "Fezpqp923ghL",
        "colab_type": "text"
      },
      "source": [
        "Będziemy posługiwać się zbiorem danych o winach, dostępnym na stronie https://archive.ics.uci.edu/ml/machine-learning-databases/wine\n",
        "\n",
        "Pobierzmy zatem ten zbiór na lokalny dysk"
      ]
    },
    {
      "cell_type": "code",
      "metadata": {
        "id": "wT3q5athsWD2",
        "colab_type": "code",
        "colab": {}
      },
      "source": [
        "import requests\n",
        "url = 'https://archive.ics.uci.edu/ml/machine-learning-databases/wine/wine.data'\n",
        "data_file = open(\"./wine.data\", \"wb\").write(requests.get(url).content)"
      ],
      "execution_count": 0,
      "outputs": []
    },
    {
      "cell_type": "markdown",
      "metadata": {
        "id": "aiipkg4J29sX",
        "colab_type": "text"
      },
      "source": [
        "\n",
        "W dokumentacji możemy wyczytać, że zbiór ten zawiera następujące informacje o każdym winie:"
      ]
    },
    {
      "cell_type": "code",
      "metadata": {
        "id": "_Oy0I1JofXmK",
        "colab_type": "code",
        "colab": {}
      },
      "source": [
        "attributes = [\n",
        "    \"category\",\n",
        "    \"Alcohol\",\n",
        "    \"Malic_acid\",\n",
        "    \"Ash\",\n",
        "    \"Alcalinity_of_ash\",\n",
        "    \"Magnesium\",\n",
        "    \"Total_phenols\",\n",
        "    \"Flavanoids\",\n",
        "    \"Nonflavanoid_phenols\",\n",
        "    \"Proanthocyanins\",\n",
        "    \"Color_intensity\",\n",
        "    \"Hue\",\n",
        "    \"OD280_OD315_of_diluted_wines\",\n",
        "    \"Proline\"\n",
        "]"
      ],
      "execution_count": 0,
      "outputs": []
    },
    {
      "cell_type": "markdown",
      "metadata": {
        "id": "l5BmA6hUJSWu",
        "colab_type": "text"
      },
      "source": [
        "Nie wiemy do końca co one oznaczają. Zerknijmy w dane!"
      ]
    },
    {
      "cell_type": "code",
      "metadata": {
        "id": "167tjbuZeumg",
        "colab_type": "code",
        "colab": {}
      },
      "source": [
        "df = pd.read_csv(\"wine.data\", header=None, names=attributes)"
      ],
      "execution_count": 0,
      "outputs": []
    },
    {
      "cell_type": "markdown",
      "metadata": {
        "id": "1B3EYr-nncAE",
        "colab_type": "text"
      },
      "source": [
        "Ile mamy wierszy danych?"
      ]
    },
    {
      "cell_type": "code",
      "metadata": {
        "id": "c1lseg0Q3lEM",
        "colab_type": "code",
        "outputId": "dcf5158c-4591-4d50-f813-a4c78e5faafc",
        "colab": {
          "base_uri": "https://localhost:8080/",
          "height": 34
        }
      },
      "source": [
        "len(df)"
      ],
      "execution_count": 0,
      "outputs": [
        {
          "output_type": "execute_result",
          "data": {
            "text/plain": [
              "178"
            ]
          },
          "metadata": {
            "tags": []
          },
          "execution_count": 6
        }
      ]
    },
    {
      "cell_type": "markdown",
      "metadata": {
        "id": "2WaDb8NMnfK-",
        "colab_type": "text"
      },
      "source": [
        "Obejrzyjmy pierwsze 5 próbek."
      ]
    },
    {
      "cell_type": "code",
      "metadata": {
        "id": "bbwHdtTn-1FJ",
        "colab_type": "code",
        "outputId": "d1874124-6944-45a7-b8ae-fe6e7002d7d2",
        "colab": {
          "base_uri": "https://localhost:8080/",
          "height": 224
        }
      },
      "source": [
        "df.head()"
      ],
      "execution_count": 0,
      "outputs": [
        {
          "output_type": "execute_result",
          "data": {
            "text/html": [
              "<div>\n",
              "<style scoped>\n",
              "    .dataframe tbody tr th:only-of-type {\n",
              "        vertical-align: middle;\n",
              "    }\n",
              "\n",
              "    .dataframe tbody tr th {\n",
              "        vertical-align: top;\n",
              "    }\n",
              "\n",
              "    .dataframe thead th {\n",
              "        text-align: right;\n",
              "    }\n",
              "</style>\n",
              "<table border=\"1\" class=\"dataframe\">\n",
              "  <thead>\n",
              "    <tr style=\"text-align: right;\">\n",
              "      <th></th>\n",
              "      <th>category</th>\n",
              "      <th>Alcohol</th>\n",
              "      <th>Malic_acid</th>\n",
              "      <th>Ash</th>\n",
              "      <th>Alcalinity_of_ash</th>\n",
              "      <th>Magnesium</th>\n",
              "      <th>Total_phenols</th>\n",
              "      <th>Flavanoids</th>\n",
              "      <th>Nonflavanoid_phenols</th>\n",
              "      <th>Proanthocyanins</th>\n",
              "      <th>Color_intensity</th>\n",
              "      <th>Hue</th>\n",
              "      <th>OD280_OD315_of_diluted_wines</th>\n",
              "      <th>Proline</th>\n",
              "    </tr>\n",
              "  </thead>\n",
              "  <tbody>\n",
              "    <tr>\n",
              "      <th>0</th>\n",
              "      <td>1</td>\n",
              "      <td>14.23</td>\n",
              "      <td>1.71</td>\n",
              "      <td>2.43</td>\n",
              "      <td>15.6</td>\n",
              "      <td>127</td>\n",
              "      <td>2.80</td>\n",
              "      <td>3.06</td>\n",
              "      <td>0.28</td>\n",
              "      <td>2.29</td>\n",
              "      <td>5.64</td>\n",
              "      <td>1.04</td>\n",
              "      <td>3.92</td>\n",
              "      <td>1065</td>\n",
              "    </tr>\n",
              "    <tr>\n",
              "      <th>1</th>\n",
              "      <td>1</td>\n",
              "      <td>13.20</td>\n",
              "      <td>1.78</td>\n",
              "      <td>2.14</td>\n",
              "      <td>11.2</td>\n",
              "      <td>100</td>\n",
              "      <td>2.65</td>\n",
              "      <td>2.76</td>\n",
              "      <td>0.26</td>\n",
              "      <td>1.28</td>\n",
              "      <td>4.38</td>\n",
              "      <td>1.05</td>\n",
              "      <td>3.40</td>\n",
              "      <td>1050</td>\n",
              "    </tr>\n",
              "    <tr>\n",
              "      <th>2</th>\n",
              "      <td>1</td>\n",
              "      <td>13.16</td>\n",
              "      <td>2.36</td>\n",
              "      <td>2.67</td>\n",
              "      <td>18.6</td>\n",
              "      <td>101</td>\n",
              "      <td>2.80</td>\n",
              "      <td>3.24</td>\n",
              "      <td>0.30</td>\n",
              "      <td>2.81</td>\n",
              "      <td>5.68</td>\n",
              "      <td>1.03</td>\n",
              "      <td>3.17</td>\n",
              "      <td>1185</td>\n",
              "    </tr>\n",
              "    <tr>\n",
              "      <th>3</th>\n",
              "      <td>1</td>\n",
              "      <td>14.37</td>\n",
              "      <td>1.95</td>\n",
              "      <td>2.50</td>\n",
              "      <td>16.8</td>\n",
              "      <td>113</td>\n",
              "      <td>3.85</td>\n",
              "      <td>3.49</td>\n",
              "      <td>0.24</td>\n",
              "      <td>2.18</td>\n",
              "      <td>7.80</td>\n",
              "      <td>0.86</td>\n",
              "      <td>3.45</td>\n",
              "      <td>1480</td>\n",
              "    </tr>\n",
              "    <tr>\n",
              "      <th>4</th>\n",
              "      <td>1</td>\n",
              "      <td>13.24</td>\n",
              "      <td>2.59</td>\n",
              "      <td>2.87</td>\n",
              "      <td>21.0</td>\n",
              "      <td>118</td>\n",
              "      <td>2.80</td>\n",
              "      <td>2.69</td>\n",
              "      <td>0.39</td>\n",
              "      <td>1.82</td>\n",
              "      <td>4.32</td>\n",
              "      <td>1.04</td>\n",
              "      <td>2.93</td>\n",
              "      <td>735</td>\n",
              "    </tr>\n",
              "  </tbody>\n",
              "</table>\n",
              "</div>"
            ],
            "text/plain": [
              "   category  Alcohol  Malic_acid  ...   Hue  OD280_OD315_of_diluted_wines  Proline\n",
              "0         1    14.23        1.71  ...  1.04                          3.92     1065\n",
              "1         1    13.20        1.78  ...  1.05                          3.40     1050\n",
              "2         1    13.16        2.36  ...  1.03                          3.17     1185\n",
              "3         1    14.37        1.95  ...  0.86                          3.45     1480\n",
              "4         1    13.24        2.59  ...  1.04                          2.93      735\n",
              "\n",
              "[5 rows x 14 columns]"
            ]
          },
          "metadata": {
            "tags": []
          },
          "execution_count": 7
        }
      ]
    },
    {
      "cell_type": "markdown",
      "metadata": {
        "id": "awyrCkhnnmw-",
        "colab_type": "text"
      },
      "source": [
        "I podsumujmy dane z każdej kolumny."
      ]
    },
    {
      "cell_type": "code",
      "metadata": {
        "id": "n2qtk2EjfBic",
        "colab_type": "code",
        "outputId": "fa57b0c2-e26e-4c2a-a897-cd4e01f2c2a5",
        "colab": {
          "base_uri": "https://localhost:8080/",
          "height": 317
        }
      },
      "source": [
        "df.describe()"
      ],
      "execution_count": 0,
      "outputs": [
        {
          "output_type": "execute_result",
          "data": {
            "text/html": [
              "<div>\n",
              "<style scoped>\n",
              "    .dataframe tbody tr th:only-of-type {\n",
              "        vertical-align: middle;\n",
              "    }\n",
              "\n",
              "    .dataframe tbody tr th {\n",
              "        vertical-align: top;\n",
              "    }\n",
              "\n",
              "    .dataframe thead th {\n",
              "        text-align: right;\n",
              "    }\n",
              "</style>\n",
              "<table border=\"1\" class=\"dataframe\">\n",
              "  <thead>\n",
              "    <tr style=\"text-align: right;\">\n",
              "      <th></th>\n",
              "      <th>category</th>\n",
              "      <th>Alcohol</th>\n",
              "      <th>Malic_acid</th>\n",
              "      <th>Ash</th>\n",
              "      <th>Alcalinity_of_ash</th>\n",
              "      <th>Magnesium</th>\n",
              "      <th>Total_phenols</th>\n",
              "      <th>Flavanoids</th>\n",
              "      <th>Nonflavanoid_phenols</th>\n",
              "      <th>Proanthocyanins</th>\n",
              "      <th>Color_intensity</th>\n",
              "      <th>Hue</th>\n",
              "      <th>OD280_OD315_of_diluted_wines</th>\n",
              "      <th>Proline</th>\n",
              "    </tr>\n",
              "  </thead>\n",
              "  <tbody>\n",
              "    <tr>\n",
              "      <th>count</th>\n",
              "      <td>178.000000</td>\n",
              "      <td>178.000000</td>\n",
              "      <td>178.000000</td>\n",
              "      <td>178.000000</td>\n",
              "      <td>178.000000</td>\n",
              "      <td>178.000000</td>\n",
              "      <td>178.000000</td>\n",
              "      <td>178.000000</td>\n",
              "      <td>178.000000</td>\n",
              "      <td>178.000000</td>\n",
              "      <td>178.000000</td>\n",
              "      <td>178.000000</td>\n",
              "      <td>178.000000</td>\n",
              "      <td>178.000000</td>\n",
              "    </tr>\n",
              "    <tr>\n",
              "      <th>mean</th>\n",
              "      <td>1.938202</td>\n",
              "      <td>13.000618</td>\n",
              "      <td>2.336348</td>\n",
              "      <td>2.366517</td>\n",
              "      <td>19.494944</td>\n",
              "      <td>99.741573</td>\n",
              "      <td>2.295112</td>\n",
              "      <td>2.029270</td>\n",
              "      <td>0.361854</td>\n",
              "      <td>1.590899</td>\n",
              "      <td>5.058090</td>\n",
              "      <td>0.957449</td>\n",
              "      <td>2.611685</td>\n",
              "      <td>746.893258</td>\n",
              "    </tr>\n",
              "    <tr>\n",
              "      <th>std</th>\n",
              "      <td>0.775035</td>\n",
              "      <td>0.811827</td>\n",
              "      <td>1.117146</td>\n",
              "      <td>0.274344</td>\n",
              "      <td>3.339564</td>\n",
              "      <td>14.282484</td>\n",
              "      <td>0.625851</td>\n",
              "      <td>0.998859</td>\n",
              "      <td>0.124453</td>\n",
              "      <td>0.572359</td>\n",
              "      <td>2.318286</td>\n",
              "      <td>0.228572</td>\n",
              "      <td>0.709990</td>\n",
              "      <td>314.907474</td>\n",
              "    </tr>\n",
              "    <tr>\n",
              "      <th>min</th>\n",
              "      <td>1.000000</td>\n",
              "      <td>11.030000</td>\n",
              "      <td>0.740000</td>\n",
              "      <td>1.360000</td>\n",
              "      <td>10.600000</td>\n",
              "      <td>70.000000</td>\n",
              "      <td>0.980000</td>\n",
              "      <td>0.340000</td>\n",
              "      <td>0.130000</td>\n",
              "      <td>0.410000</td>\n",
              "      <td>1.280000</td>\n",
              "      <td>0.480000</td>\n",
              "      <td>1.270000</td>\n",
              "      <td>278.000000</td>\n",
              "    </tr>\n",
              "    <tr>\n",
              "      <th>25%</th>\n",
              "      <td>1.000000</td>\n",
              "      <td>12.362500</td>\n",
              "      <td>1.602500</td>\n",
              "      <td>2.210000</td>\n",
              "      <td>17.200000</td>\n",
              "      <td>88.000000</td>\n",
              "      <td>1.742500</td>\n",
              "      <td>1.205000</td>\n",
              "      <td>0.270000</td>\n",
              "      <td>1.250000</td>\n",
              "      <td>3.220000</td>\n",
              "      <td>0.782500</td>\n",
              "      <td>1.937500</td>\n",
              "      <td>500.500000</td>\n",
              "    </tr>\n",
              "    <tr>\n",
              "      <th>50%</th>\n",
              "      <td>2.000000</td>\n",
              "      <td>13.050000</td>\n",
              "      <td>1.865000</td>\n",
              "      <td>2.360000</td>\n",
              "      <td>19.500000</td>\n",
              "      <td>98.000000</td>\n",
              "      <td>2.355000</td>\n",
              "      <td>2.135000</td>\n",
              "      <td>0.340000</td>\n",
              "      <td>1.555000</td>\n",
              "      <td>4.690000</td>\n",
              "      <td>0.965000</td>\n",
              "      <td>2.780000</td>\n",
              "      <td>673.500000</td>\n",
              "    </tr>\n",
              "    <tr>\n",
              "      <th>75%</th>\n",
              "      <td>3.000000</td>\n",
              "      <td>13.677500</td>\n",
              "      <td>3.082500</td>\n",
              "      <td>2.557500</td>\n",
              "      <td>21.500000</td>\n",
              "      <td>107.000000</td>\n",
              "      <td>2.800000</td>\n",
              "      <td>2.875000</td>\n",
              "      <td>0.437500</td>\n",
              "      <td>1.950000</td>\n",
              "      <td>6.200000</td>\n",
              "      <td>1.120000</td>\n",
              "      <td>3.170000</td>\n",
              "      <td>985.000000</td>\n",
              "    </tr>\n",
              "    <tr>\n",
              "      <th>max</th>\n",
              "      <td>3.000000</td>\n",
              "      <td>14.830000</td>\n",
              "      <td>5.800000</td>\n",
              "      <td>3.230000</td>\n",
              "      <td>30.000000</td>\n",
              "      <td>162.000000</td>\n",
              "      <td>3.880000</td>\n",
              "      <td>5.080000</td>\n",
              "      <td>0.660000</td>\n",
              "      <td>3.580000</td>\n",
              "      <td>13.000000</td>\n",
              "      <td>1.710000</td>\n",
              "      <td>4.000000</td>\n",
              "      <td>1680.000000</td>\n",
              "    </tr>\n",
              "  </tbody>\n",
              "</table>\n",
              "</div>"
            ],
            "text/plain": [
              "         category     Alcohol  ...  OD280_OD315_of_diluted_wines      Proline\n",
              "count  178.000000  178.000000  ...                    178.000000   178.000000\n",
              "mean     1.938202   13.000618  ...                      2.611685   746.893258\n",
              "std      0.775035    0.811827  ...                      0.709990   314.907474\n",
              "min      1.000000   11.030000  ...                      1.270000   278.000000\n",
              "25%      1.000000   12.362500  ...                      1.937500   500.500000\n",
              "50%      2.000000   13.050000  ...                      2.780000   673.500000\n",
              "75%      3.000000   13.677500  ...                      3.170000   985.000000\n",
              "max      3.000000   14.830000  ...                      4.000000  1680.000000\n",
              "\n",
              "[8 rows x 14 columns]"
            ]
          },
          "metadata": {
            "tags": []
          },
          "execution_count": 8
        }
      ]
    },
    {
      "cell_type": "markdown",
      "metadata": {
        "id": "80AtueflnrgC",
        "colab_type": "text"
      },
      "source": [
        "Sprawdźmy czy dane są zbalansowen - zobaczmy wykres liczby próbek w każdej z 3 klas"
      ]
    },
    {
      "cell_type": "code",
      "metadata": {
        "id": "snuYmH2P4NTJ",
        "colab_type": "code",
        "outputId": "3b9dfa93-034e-4e96-fb7c-d26be0d10a45",
        "colab": {
          "base_uri": "https://localhost:8080/",
          "height": 279
        }
      },
      "source": [
        "df['category'] \\\n",
        "    .value_counts() \\\n",
        "    .sort_index() \\\n",
        "    .plot.bar()"
      ],
      "execution_count": 0,
      "outputs": [
        {
          "output_type": "execute_result",
          "data": {
            "text/plain": [
              "<matplotlib.axes._subplots.AxesSubplot at 0x7fea61032080>"
            ]
          },
          "metadata": {
            "tags": []
          },
          "execution_count": 9
        },
        {
          "output_type": "display_data",
          "data": {
            "image/png": "[encoded data removed]",
            "text/plain": [
              "<Figure size 432x288 with 1 Axes>"
            ]
          },
          "metadata": {
            "tags": []
          }
        }
      ]
    },
    {
      "cell_type": "markdown",
      "metadata": {
        "id": "ZU1cl2C5n2Bc",
        "colab_type": "text"
      },
      "source": [
        "Powiedzmy, że mamy w miarę zbalansowane.\n",
        "\n",
        "Czy mamy jakieś braki w danych?"
      ]
    },
    {
      "cell_type": "code",
      "metadata": {
        "id": "teGzq03vfCJ-",
        "colab_type": "code",
        "outputId": "a9ce5303-2fb9-4f42-b9b2-de292070c82d",
        "colab": {
          "base_uri": "https://localhost:8080/",
          "height": 68
        }
      },
      "source": [
        "df[df.isnull().any(1)]\n"
      ],
      "execution_count": 0,
      "outputs": [
        {
          "output_type": "execute_result",
          "data": {
            "text/html": [
              "<div>\n",
              "<style scoped>\n",
              "    .dataframe tbody tr th:only-of-type {\n",
              "        vertical-align: middle;\n",
              "    }\n",
              "\n",
              "    .dataframe tbody tr th {\n",
              "        vertical-align: top;\n",
              "    }\n",
              "\n",
              "    .dataframe thead th {\n",
              "        text-align: right;\n",
              "    }\n",
              "</style>\n",
              "<table border=\"1\" class=\"dataframe\">\n",
              "  <thead>\n",
              "    <tr style=\"text-align: right;\">\n",
              "      <th></th>\n",
              "      <th>category</th>\n",
              "      <th>Alcohol</th>\n",
              "      <th>Malic_acid</th>\n",
              "      <th>Ash</th>\n",
              "      <th>Alcalinity_of_ash</th>\n",
              "      <th>Magnesium</th>\n",
              "      <th>Total_phenols</th>\n",
              "      <th>Flavanoids</th>\n",
              "      <th>Nonflavanoid_phenols</th>\n",
              "      <th>Proanthocyanins</th>\n",
              "      <th>Color_intensity</th>\n",
              "      <th>Hue</th>\n",
              "      <th>OD280_OD315_of_diluted_wines</th>\n",
              "      <th>Proline</th>\n",
              "    </tr>\n",
              "  </thead>\n",
              "  <tbody>\n",
              "  </tbody>\n",
              "</table>\n",
              "</div>"
            ],
            "text/plain": [
              "Empty DataFrame\n",
              "Columns: [category, Alcohol, Malic_acid, Ash, Alcalinity_of_ash, Magnesium, Total_phenols, Flavanoids, Nonflavanoid_phenols, Proanthocyanins, Color_intensity, Hue, OD280_OD315_of_diluted_wines, Proline]\n",
              "Index: []"
            ]
          },
          "metadata": {
            "tags": []
          },
          "execution_count": 10
        }
      ]
    },
    {
      "cell_type": "markdown",
      "metadata": {
        "id": "gDbZ8ayeoQ6D",
        "colab_type": "text"
      },
      "source": [
        "## Podział danych\n",
        "\n",
        "Podzielimy sobie teraz dane na zbiory treningowy i testowy\n",
        "\n",
        "Do zbioru testowego odłożymy 25% danych"
      ]
    },
    {
      "cell_type": "code",
      "metadata": {
        "id": "SIoZoB3ZCwk5",
        "colab_type": "code",
        "outputId": "0eab7d12-6b70-4b23-92f6-93ecf0f640e2",
        "colab": {
          "base_uri": "https://localhost:8080/",
          "height": 34
        }
      },
      "source": [
        "# sprawdźmy, ile to jest 25%\n",
        "valid_count = int(len(df) * 0.25)\n",
        "\n",
        "# pomieszajmy wiersze w tabeli\n",
        "df = df.sample(frac=1).reset_index(drop=True)\n",
        "\n",
        "# i weźmy 25% \"dolnych\" rekordów\n",
        "valid_idx = range(len(df) - valid_count, len(df))\n",
        "\n",
        "valid_idx"
      ],
      "execution_count": 0,
      "outputs": [
        {
          "output_type": "execute_result",
          "data": {
            "text/plain": [
              "range(134, 178)"
            ]
          },
          "metadata": {
            "tags": []
          },
          "execution_count": 11
        }
      ]
    },
    {
      "cell_type": "markdown",
      "metadata": {
        "id": "cQE0jXSOvdOH",
        "colab_type": "text"
      },
      "source": [
        "## Czas na preprocessing"
      ]
    },
    {
      "cell_type": "markdown",
      "metadata": {
        "id": "TaQ96dghva5f",
        "colab_type": "text"
      },
      "source": [
        "W Fast.AI mamy zbiór gotowych klas, które po prostu przekażemy jako listę przy wczytaniu danych. W naszym przypadku chcemy dane jedynie znormalizować."
      ]
    },
    {
      "cell_type": "code",
      "metadata": {
        "id": "kpnjh09EvzfV",
        "colab_type": "code",
        "colab": {}
      },
      "source": [
        "preprocessing_steps = [Normalize]"
      ],
      "execution_count": 0,
      "outputs": []
    },
    {
      "cell_type": "markdown",
      "metadata": {
        "id": "eN1h40rbv5dX",
        "colab_type": "text"
      },
      "source": [
        "Co jeszcze musimy zrobić przed wczytaniem danych do specjalnej klasy, to wskazanie, którą z wartości chcemy przewidywać - czyli nasz target / label / klasę (możesz się spotkać z różnymi terminami)"
      ]
    },
    {
      "cell_type": "code",
      "metadata": {
        "id": "U-0T0lnXC_dU",
        "colab_type": "code",
        "colab": {}
      },
      "source": [
        "target_var = 'category'"
      ],
      "execution_count": 0,
      "outputs": []
    },
    {
      "cell_type": "markdown",
      "metadata": {
        "id": "Tx6mNtA2wKQH",
        "colab_type": "text"
      },
      "source": [
        "Czas na wczytanie danych do formatu, który w Fast.AI będziemy mogli później wykorzystać przy treningu. Do \"wczytywacza\" przekażemy nasz DataFrame, kolumnę z labelką, ID rekordów ze zbioru testowego i listę funkcji preprocessingu. "
      ]
    },
    {
      "cell_type": "code",
      "metadata": {
        "id": "tbBtR2TXDM89",
        "colab_type": "code",
        "colab": {}
      },
      "source": [
        "data = TabularDataBunch.from_df(\".\", df, target_var, valid_idx=valid_idx, procs=preprocessing_steps)"
      ],
      "execution_count": 0,
      "outputs": []
    },
    {
      "cell_type": "markdown",
      "metadata": {
        "id": "gS2c5b91wilB",
        "colab_type": "text"
      },
      "source": [
        "Mamy dane, czas na uczenie!\n",
        "\n",
        "## Uczenie\n",
        "\n",
        "Tworzymy obiekt TabularLearner na naszych danych. Będzie to sieć neuronowa o 2 warstwach, 200 neuronach w pierwszej i 100 w drugiej warstwie. \n",
        "\n",
        "Jak wspominaliśmy, metryką będzie skuteczność, czyli accuracy"
      ]
    },
    {
      "cell_type": "code",
      "metadata": {
        "id": "kMl69YDTwY4g",
        "colab_type": "code",
        "colab": {}
      },
      "source": [
        "learn = tabular_learner(data, layers=[200,100], metrics=accuracy)\n"
      ],
      "execution_count": 0,
      "outputs": []
    },
    {
      "cell_type": "markdown",
      "metadata": {
        "id": "Yje4ewtnSVAQ",
        "colab_type": "text"
      },
      "source": [
        "I trenujemy, czyli \"fitujemy\" nasz model do danych. Będziemy trenować korzystając z 1 cycle policy - domyślny sposób w Fast.AI"
      ]
    },
    {
      "cell_type": "code",
      "metadata": {
        "id": "8ggmm2vOSUdR",
        "colab_type": "code",
        "outputId": "7ec1b3aa-c5c5-4d6c-85fb-3df0f1a06e3c",
        "colab": {
          "base_uri": "https://localhost:8080/",
          "height": 80
        }
      },
      "source": [
        "learn.fit_one_cycle(1, 1e-2)"
      ],
      "execution_count": 0,
      "outputs": [
        {
          "output_type": "display_data",
          "data": {
            "text/html": [
              "<table border=\"1\" class=\"dataframe\">\n",
              "  <thead>\n",
              "    <tr style=\"text-align: left;\">\n",
              "      <th>epoch</th>\n",
              "      <th>train_loss</th>\n",
              "      <th>valid_loss</th>\n",
              "      <th>accuracy</th>\n",
              "      <th>time</th>\n",
              "    </tr>\n",
              "  </thead>\n",
              "  <tbody>\n",
              "    <tr>\n",
              "      <td>0</td>\n",
              "      <td>1.242008</td>\n",
              "      <td>0.771216</td>\n",
              "      <td>0.977273</td>\n",
              "      <td>00:00</td>\n",
              "    </tr>\n",
              "  </tbody>\n",
              "</table>"
            ],
            "text/plain": [
              "<IPython.core.display.HTML object>"
            ]
          },
          "metadata": {
            "tags": []
          }
        }
      ]
    },
    {
      "cell_type": "markdown",
      "metadata": {
        "id": "5r13gLJqy2Ef",
        "colab_type": "text"
      },
      "source": [
        "## Walidacja"
      ]
    },
    {
      "cell_type": "code",
      "metadata": {
        "id": "cXhGN6Rc9Pam",
        "colab_type": "code",
        "outputId": "f6ff40ef-7bb9-4b6f-d1ee-ad14a6fbed27",
        "colab": {
          "base_uri": "https://localhost:8080/",
          "height": 34
        }
      },
      "source": [
        "learn.validate()"
      ],
      "execution_count": 0,
      "outputs": [
        {
          "output_type": "display_data",
          "data": {
            "text/html": [
              ""
            ],
            "text/plain": [
              "<IPython.core.display.HTML object>"
            ]
          },
          "metadata": {
            "tags": []
          }
        },
        {
          "output_type": "execute_result",
          "data": {
            "text/plain": [
              "[0.77121603, tensor(0.9773)]"
            ]
          },
          "metadata": {
            "tags": []
          },
          "execution_count": 17
        }
      ]
    },
    {
      "cell_type": "markdown",
      "metadata": {
        "id": "i2jMj43sy9f7",
        "colab_type": "text"
      },
      "source": [
        "Alternatywna składnia, z przekazaniem zbioru do walidacji."
      ]
    },
    {
      "cell_type": "code",
      "metadata": {
        "id": "sbWLAJYq8CKw",
        "colab_type": "code",
        "outputId": "b63abd01-e4bc-4a74-da47-9872dfce7eed",
        "colab": {
          "base_uri": "https://localhost:8080/",
          "height": 34
        }
      },
      "source": [
        "learn.validate(learn.data.valid_dl)"
      ],
      "execution_count": 0,
      "outputs": [
        {
          "output_type": "display_data",
          "data": {
            "text/html": [
              ""
            ],
            "text/plain": [
              "<IPython.core.display.HTML object>"
            ]
          },
          "metadata": {
            "tags": []
          }
        },
        {
          "output_type": "execute_result",
          "data": {
            "text/plain": [
              "[0.77121603, tensor(0.9773)]"
            ]
          },
          "metadata": {
            "tags": []
          },
          "execution_count": 18
        }
      ]
    },
    {
      "cell_type": "markdown",
      "metadata": {
        "id": "ugC0mWTzy6KW",
        "colab_type": "text"
      },
      "source": [
        "## Predykcje"
      ]
    },
    {
      "cell_type": "code",
      "metadata": {
        "id": "M-6HjzBOxJnq",
        "colab_type": "code",
        "outputId": "714b37a8-4c93-451d-d961-2b85242cbeda",
        "colab": {
          "base_uri": "https://localhost:8080/",
          "height": 374
        }
      },
      "source": [
        "preds, _ = learn.get_preds(data.valid_ds)\n",
        "pred_prob, pred_class = preds.max(1)\n",
        "pred_prob, pred_class"
      ],
      "execution_count": 0,
      "outputs": [
        {
          "output_type": "display_data",
          "data": {
            "text/html": [
              ""
            ],
            "text/plain": [
              "<IPython.core.display.HTML object>"
            ]
          },
          "metadata": {
            "tags": []
          }
        },
        {
          "output_type": "execute_result",
          "data": {
            "text/plain": [
              "(tensor([0.4247, 0.5110, 0.4768, 0.4589, 0.4575, 0.4766, 0.5001, 0.4715, 0.4808,\n",
              "         0.4757, 0.4233, 0.4516, 0.3616, 0.5895, 0.3942, 0.4276, 0.3568, 0.5532,\n",
              "         0.4562, 0.5358, 0.5876, 0.4888, 0.5528, 0.5802, 0.5677, 0.4777, 0.5972,\n",
              "         0.4991, 0.3964, 0.4993, 0.4334, 0.6598, 0.4280, 0.4902, 0.4292, 0.4212,\n",
              "         0.4147, 0.4245, 0.4210, 0.4164, 0.6913, 0.3990, 0.6158, 0.4334, 0.4892,\n",
              "         0.5215, 0.3546, 0.4317, 0.3979, 0.5619, 0.4006, 0.5653, 0.4773, 0.4660,\n",
              "         0.4276, 0.4740, 0.4332, 0.4209, 0.3880, 0.5135, 0.4845, 0.4511, 0.4564,\n",
              "         0.7182, 0.4896, 0.4003, 0.4817, 0.5776, 0.6423, 0.4692, 0.4464, 0.5592,\n",
              "         0.5027, 0.4780, 0.4551, 0.5400, 0.5454, 0.3869, 0.5131, 0.4549, 0.4344,\n",
              "         0.4625, 0.4728, 0.5577, 0.6927, 0.5021, 0.3953, 0.4796, 0.5255, 0.4899,\n",
              "         0.5174, 0.4363, 0.5690, 0.5300, 0.4647, 0.4496, 0.4148, 0.6154, 0.4193,\n",
              "         0.4839, 0.4116, 0.4739, 0.4696, 0.5571, 0.5090, 0.3992, 0.4382, 0.6517,\n",
              "         0.4517, 0.6086, 0.4808, 0.4182, 0.4828, 0.5975, 0.4042, 0.4419, 0.3994,\n",
              "         0.4965, 0.6143, 0.5408, 0.5562, 0.3779, 0.4137, 0.4131, 0.4812, 0.6288,\n",
              "         0.5020, 0.4338, 0.4924, 0.4309, 0.3948, 0.4069, 0.3657, 0.4968]),\n",
              " tensor([2, 0, 1, 1, 2, 1, 0, 2, 1, 2, 0, 2, 1, 0, 1, 0, 2, 0, 1, 0, 0, 2, 0, 0,\n",
              "         0, 2, 0, 2, 1, 0, 2, 0, 1, 2, 1, 2, 1, 1, 1, 2, 0, 2, 0, 2, 1, 2, 1, 2,\n",
              "         0, 0, 1, 0, 1, 1, 1, 2, 2, 2, 1, 2, 1, 0, 0, 0, 2, 1, 1, 0, 0, 1, 1, 0,\n",
              "         2, 1, 0, 0, 0, 2, 0, 1, 1, 0, 1, 1, 0, 2, 0, 2, 0, 0, 0, 2, 0, 2, 2, 2,\n",
              "         2, 0, 0, 2, 2, 1, 2, 0, 2, 0, 2, 0, 1, 0, 0, 2, 2, 1, 2, 1, 1, 0, 0, 0,\n",
              "         0, 1, 1, 0, 2, 0, 0, 0, 1, 2, 1, 1, 0, 1]))"
            ]
          },
          "metadata": {
            "tags": []
          },
          "execution_count": 56
        }
      ]
    }
  ]
}