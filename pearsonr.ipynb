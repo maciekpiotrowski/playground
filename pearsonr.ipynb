{
  "nbformat": 4,
  "nbformat_minor": 0,
  "metadata": {
    "colab": {
      "name": "pearsonr.ipynb",
      "provenance": [],
      "authorship_tag": "ABX9TyMYZQ88R5cxA24Ww484iZGZ",
      "include_colab_link": true
    },
    "kernelspec": {
      "name": "python3",
      "display_name": "Python 3"
    }
  },
  "cells": [
    {
      "cell_type": "markdown",
      "metadata": {
        "id": "view-in-github",
        "colab_type": "text"
      },
      "source": [
        "<a href=\"https://colab.research.google.com/github/maciekpiotrowski/playground/blob/master/pearsonr.ipynb\" target=\"_parent\"><img src=\"https://colab.research.google.com/assets/colab-badge.svg\" alt=\"Open In Colab\"/></a>"
      ]
    },
    {
      "cell_type": "code",
      "metadata": {
        "id": "qaM7PhQ5QE1i",
        "colab_type": "code",
        "colab": {
          "base_uri": "https://localhost:8080/",
          "height": 34
        },
        "outputId": "8f38b699-4121-4bf5-b7c2-3c9d2a0ef722"
      },
      "source": [
        "import numpy as np\n",
        "from scipy.stats import pearsonr\n",
        "\n",
        "np.random.seed(1)\n",
        "data1 = 20 * np.random.rand(1000)+100\n",
        "np.random.seed(1) #change to different value - corr will drop\n",
        "data2 = data1+(10*np.random.rand(1000)+100)\n",
        "corr,p=pearsonr(data1,data2)\n",
        "print('%.3f'%corr)"
      ],
      "execution_count": 16,
      "outputs": [
        {
          "output_type": "stream",
          "text": [
            "1.000\n"
          ],
          "name": "stdout"
        }
      ]
    }
  ]
}