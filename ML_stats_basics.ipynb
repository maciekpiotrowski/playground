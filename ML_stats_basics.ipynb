{
  "nbformat": 4,
  "nbformat_minor": 0,
  "metadata": {
    "colab": {
      "name": "ML stats basics.ipynb",
      "provenance": [],
      "authorship_tag": "ABX9TyN7eZ5NIKBYhtgrTKYJIsu1",
      "include_colab_link": true
    },
    "kernelspec": {
      "name": "python3",
      "display_name": "Python 3"
    }
  },
  "cells": [
    {
      "cell_type": "markdown",
      "metadata": {
        "id": "view-in-github",
        "colab_type": "text"
      },
      "source": [
        "<a href=\"https://colab.research.google.com/github/maciekpiotrowski/playground/blob/master/ML_stats_basics.ipynb\" target=\"_parent\"><img src=\"https://colab.research.google.com/assets/colab-badge.svg\" alt=\"Open In Colab\"/></a>"
      ]
    },
    {
      "cell_type": "code",
      "metadata": {
        "id": "qaM7PhQ5QE1i",
        "colab_type": "code",
        "colab": {
          "base_uri": "https://localhost:8080/",
          "height": 34
        },
        "outputId": "1eaf1248-fddb-4eb7-a4d0-832a63348830"
      },
      "source": [
        "import numpy as np\n",
        "from scipy.stats import pearsonr,ttest_ind\n",
        "\n",
        "np.random.seed(1)\n",
        "data1 = 20 * np.random.rand(1000)+100\n",
        "np.random.seed(1) #change to different value - corr will drop\n",
        "data2 = data1+(10*np.random.rand(1000)+100)\n",
        "corr,p=pearsonr(data1,data2)\n",
        "print('%.3f'%corr)\n",
        "\n"
      ],
      "execution_count": 8,
      "outputs": [
        {
          "output_type": "stream",
          "text": [
            "1.000\n"
          ],
          "name": "stdout"
        }
      ]
    },
    {
      "cell_type": "code",
      "metadata": {
        "id": "cFuQOHmGirad",
        "colab_type": "code",
        "colab": {
          "base_uri": "https://localhost:8080/",
          "height": 34
        },
        "outputId": "09f6acc5-a51a-4fd0-fc03-a0f1d2bd18fd"
      },
      "source": [
        "data3=20 * np.random.rand(1000)+100\n",
        "data3=data2\n",
        "stat,p=ttest_ind(data1,data3)\n",
        "print('stats = %.3f, p= %.3f'%(stat,p))"
      ],
      "execution_count": 10,
      "outputs": [
        {
          "output_type": "stream",
          "text": [
            "stats = -319.224, p= 0.000\n"
          ],
          "name": "stdout"
        }
      ]
    },
    {
      "cell_type": "code",
      "metadata": {
        "id": "ZjEarhNogKbo",
        "colab_type": "code",
        "colab": {
          "base_uri": "https://localhost:8080/",
          "height": 68
        },
        "outputId": "63389f32-7147-4ee3-c3b6-e43f3866c67a"
      },
      "source": [
        "from scipy.stats import mannwhitneyu\n",
        "data10=50+(np.random.rand(100)*10)\n",
        "data11=51+(np.random.rand(100)*10)\n",
        "statp,pp=pearsonr(data10,data10)\n",
        "statst,pst=ttest_ind(data10,data10)\n",
        "statmw,pmw=mannwhitneyu(data10,data10)\n",
        "print(f'p Stat stat={statp} p={pp}')\n",
        "print(f'st Stat stat={statst} p={pst}')\n",
        "print(f'mw Stat stat={statmw} p={pmw}')"
      ],
      "execution_count": 12,
      "outputs": [
        {
          "output_type": "stream",
          "text": [
            "p Stat stat=1.0 p=0.0\n",
            "st Stat stat=0.0 p=1.0\n",
            "mw Stat stat=5000.0 p=0.4995125962755411\n"
          ],
          "name": "stdout"
        }
      ]
    },
    {
      "cell_type": "code",
      "metadata": {
        "id": "vYWfUYOIGfDz",
        "colab_type": "code",
        "colab": {}
      },
      "source": [
        "import pandas as pd\n",
        "mydict = [{'a': 1, 'b': 2, 'c': 3, 'd': 4},\n",
        "          {'a': 100, 'b': 200, 'c': 300, 'd': 400},\n",
        "          {'a': 1000, 'b': 2000, 'c': 3000, 'd': 4000 }]\n",
        "df = pd.DataFrame(mydict)\n"
      ],
      "execution_count": 0,
      "outputs": []
    },
    {
      "cell_type": "code",
      "metadata": {
        "id": "G6lU6TggGsyu",
        "colab_type": "code",
        "colab": {
          "base_uri": "https://localhost:8080/",
          "height": 142
        },
        "outputId": "3eb6810d-5947-4a37-ffce-506fa30a4ce1"
      },
      "source": [
        "df.iloc[:,lambda x:[0,2]]"
      ],
      "execution_count": 22,
      "outputs": [
        {
          "output_type": "execute_result",
          "data": {
            "text/html": [
              "<div>\n",
              "<style scoped>\n",
              "    .dataframe tbody tr th:only-of-type {\n",
              "        vertical-align: middle;\n",
              "    }\n",
              "\n",
              "    .dataframe tbody tr th {\n",
              "        vertical-align: top;\n",
              "    }\n",
              "\n",
              "    .dataframe thead th {\n",
              "        text-align: right;\n",
              "    }\n",
              "</style>\n",
              "<table border=\"1\" class=\"dataframe\">\n",
              "  <thead>\n",
              "    <tr style=\"text-align: right;\">\n",
              "      <th></th>\n",
              "      <th>a</th>\n",
              "      <th>c</th>\n",
              "    </tr>\n",
              "  </thead>\n",
              "  <tbody>\n",
              "    <tr>\n",
              "      <th>0</th>\n",
              "      <td>1</td>\n",
              "      <td>3</td>\n",
              "    </tr>\n",
              "    <tr>\n",
              "      <th>1</th>\n",
              "      <td>100</td>\n",
              "      <td>300</td>\n",
              "    </tr>\n",
              "    <tr>\n",
              "      <th>2</th>\n",
              "      <td>1000</td>\n",
              "      <td>3000</td>\n",
              "    </tr>\n",
              "  </tbody>\n",
              "</table>\n",
              "</div>"
            ],
            "text/plain": [
              "      a     c\n",
              "0     1     3\n",
              "1   100   300\n",
              "2  1000  3000"
            ]
          },
          "metadata": {
            "tags": []
          },
          "execution_count": 22
        }
      ]
    },
    {
      "cell_type": "code",
      "metadata": {
        "id": "8X3DEAqpNY9F",
        "colab_type": "code",
        "colab": {
          "base_uri": "https://localhost:8080/",
          "height": 142
        },
        "outputId": "b7263866-c102-48ab-871d-fd55c55ee345"
      },
      "source": [
        ""
      ],
      "execution_count": 29,
      "outputs": [
        {
          "output_type": "execute_result",
          "data": {
            "text/html": [
              "<div>\n",
              "<style scoped>\n",
              "    .dataframe tbody tr th:only-of-type {\n",
              "        vertical-align: middle;\n",
              "    }\n",
              "\n",
              "    .dataframe tbody tr th {\n",
              "        vertical-align: top;\n",
              "    }\n",
              "\n",
              "    .dataframe thead th {\n",
              "        text-align: right;\n",
              "    }\n",
              "</style>\n",
              "<table border=\"1\" class=\"dataframe\">\n",
              "  <thead>\n",
              "    <tr style=\"text-align: right;\">\n",
              "      <th></th>\n",
              "      <th>a</th>\n",
              "      <th>b</th>\n",
              "      <th>c</th>\n",
              "      <th>d</th>\n",
              "    </tr>\n",
              "  </thead>\n",
              "  <tbody>\n",
              "    <tr>\n",
              "      <th>0</th>\n",
              "      <td>1</td>\n",
              "      <td>2</td>\n",
              "      <td>3</td>\n",
              "      <td>4</td>\n",
              "    </tr>\n",
              "    <tr>\n",
              "      <th>1</th>\n",
              "      <td>100</td>\n",
              "      <td>200</td>\n",
              "      <td>300</td>\n",
              "      <td>400</td>\n",
              "    </tr>\n",
              "    <tr>\n",
              "      <th>2</th>\n",
              "      <td>1000</td>\n",
              "      <td>2000</td>\n",
              "      <td>3000</td>\n",
              "      <td>4000</td>\n",
              "    </tr>\n",
              "  </tbody>\n",
              "</table>\n",
              "</div>"
            ],
            "text/plain": [
              "      a     b     c     d\n",
              "0     1     2     3     4\n",
              "1   100   200   300   400\n",
              "2  1000  2000  3000  4000"
            ]
          },
          "metadata": {
            "tags": []
          },
          "execution_count": 29
        }
      ]
    },
    {
      "cell_type": "code",
      "metadata": {
        "id": "7gZ5NQKViGLX",
        "colab_type": "code",
        "colab": {}
      },
      "source": [
        ""
      ],
      "execution_count": 0,
      "outputs": []
    }
  ]
}